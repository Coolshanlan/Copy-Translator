{
 "cells": [
  {
   "cell_type": "code",
   "execution_count": 14,
   "metadata": {},
   "outputs": [],
   "source": [
    "import pandas as pd"
   ]
  },
  {
   "cell_type": "code",
   "execution_count": 15,
   "metadata": {},
   "outputs": [
    {
     "data": {
      "text/html": [
       "<div>\n",
       "<style scoped>\n",
       "    .dataframe tbody tr th:only-of-type {\n",
       "        vertical-align: middle;\n",
       "    }\n",
       "\n",
       "    .dataframe tbody tr th {\n",
       "        vertical-align: top;\n",
       "    }\n",
       "\n",
       "    .dataframe thead th {\n",
       "        text-align: right;\n",
       "    }\n",
       "</style>\n",
       "<table border=\"1\" class=\"dataframe\">\n",
       "  <thead>\n",
       "    <tr style=\"text-align: right;\">\n",
       "      <th></th>\n",
       "      <th>content</th>\n",
       "      <th>wrong</th>\n",
       "      <th>example</th>\n",
       "    </tr>\n",
       "  </thead>\n",
       "  <tbody>\n",
       "    <tr>\n",
       "      <th>not</th>\n",
       "      <td>不是\\n\\n【副詞】:\\n不,非,弗,沒,靡,叵,未,毋,無\\n●example\\nhe w...</td>\n",
       "      <td>2</td>\n",
       "      <td>1.the pain of not knowing\\n\\n2.“Don't you keep...</td>\n",
       "    </tr>\n",
       "    <tr>\n",
       "      <th>content</th>\n",
       "      <td>內容\\n\\n【形容詞】:\\n安,滿意的,懌,逌\\n●example\\nhe seemed m...</td>\n",
       "      <td>1</td>\n",
       "      <td>1.the tone, if not the content, of his book is...</td>\n",
       "    </tr>\n",
       "    <tr>\n",
       "      <th>applications</th>\n",
       "      <td>應用\\n\\n【名詞】:\\n采取,采用,申請,申請書,訴狀,議案,意見,應用,應用程式,用場\\...</td>\n",
       "      <td>2</td>\n",
       "      <td></td>\n",
       "    </tr>\n",
       "    <tr>\n",
       "      <th>learning</th>\n",
       "      <td>學習\\n\\n【名詞】:\\n博學,讀,讀書,墨,樹立,學,學術,學問,學習,學業\\n●exam...</td>\n",
       "      <td>2</td>\n",
       "      <td>1.an important learning process\\n\\n2.these chi...</td>\n",
       "    </tr>\n",
       "    <tr>\n",
       "      <th>machine</th>\n",
       "      <td>機器\\n\\n【名詞】:\\n車,機,機器,機械\\n●example\\na fax machin...</td>\n",
       "      <td>3</td>\n",
       "      <td>1.a candy machine\\n\\n2.his campaign illustrate...</td>\n",
       "    </tr>\n",
       "  </tbody>\n",
       "</table>\n",
       "</div>"
      ],
      "text/plain": [
       "                                                        content  wrong  \\\n",
       "not           不是\\n\\n【副詞】:\\n不,非,弗,沒,靡,叵,未,毋,無\\n●example\\nhe w...      2   \n",
       "content       內容\\n\\n【形容詞】:\\n安,滿意的,懌,逌\\n●example\\nhe seemed m...      1   \n",
       "applications  應用\\n\\n【名詞】:\\n采取,采用,申請,申請書,訴狀,議案,意見,應用,應用程式,用場\\...      2   \n",
       "learning      學習\\n\\n【名詞】:\\n博學,讀,讀書,墨,樹立,學,學術,學問,學習,學業\\n●exam...      2   \n",
       "machine       機器\\n\\n【名詞】:\\n車,機,機器,機械\\n●example\\na fax machin...      3   \n",
       "\n",
       "                                                        example  \n",
       "not           1.the pain of not knowing\\n\\n2.“Don't you keep...  \n",
       "content       1.the tone, if not the content, of his book is...  \n",
       "applications                                                     \n",
       "learning      1.an important learning process\\n\\n2.these chi...  \n",
       "machine       1.a candy machine\\n\\n2.his campaign illustrate...  "
      ]
     },
     "execution_count": 15,
     "metadata": {},
     "output_type": "execute_result"
    }
   ],
   "source": [
    "vocabulary_df = pd.read_pickle('vocabulary.pkl')\n",
    "vocabulary_df"
   ]
  },
  {
   "cell_type": "code",
   "execution_count": 16,
   "metadata": {},
   "outputs": [
    {
     "data": {
      "text/plain": [
       "'不是\\n\\n【副詞】:\\n不,非,弗,沒,靡,叵,未,毋,無\\n●example\\nhe would not say\\n\\n'"
      ]
     },
     "execution_count": 16,
     "metadata": {},
     "output_type": "execute_result"
    }
   ],
   "source": [
    "vocabulary_df.iloc[0].content"
   ]
  },
  {
   "cell_type": "code",
   "execution_count": 41,
   "metadata": {},
   "outputs": [
    {
     "data": {
      "text/html": [
       "<div>\n",
       "<style scoped>\n",
       "    .dataframe tbody tr th:only-of-type {\n",
       "        vertical-align: middle;\n",
       "    }\n",
       "\n",
       "    .dataframe tbody tr th {\n",
       "        vertical-align: top;\n",
       "    }\n",
       "\n",
       "    .dataframe thead th {\n",
       "        text-align: right;\n",
       "    }\n",
       "</style>\n",
       "<table border=\"1\" class=\"dataframe\">\n",
       "  <thead>\n",
       "    <tr style=\"text-align: right;\">\n",
       "      <th></th>\n",
       "      <th>content</th>\n",
       "      <th>wrong</th>\n",
       "      <th>example</th>\n",
       "    </tr>\n",
       "  </thead>\n",
       "  <tbody>\n",
       "    <tr>\n",
       "      <th>status</th>\n",
       "      <td>地位\\n\\n【名詞】:\\n待遇,地位,身分,狀況,狀態\\n●example\\nan impr...</td>\n",
       "      <td>2.0</td>\n",
       "      <td>1.an improvement in the status of women\\n\\n2.I...</td>\n",
       "    </tr>\n",
       "  </tbody>\n",
       "</table>\n",
       "</div>"
      ],
      "text/plain": [
       "                                                  content  wrong  \\\n",
       "status  地位\\n\\n【名詞】:\\n待遇,地位,身分,狀況,狀態\\n●example\\nan impr...    2.0   \n",
       "\n",
       "                                                  example  \n",
       "status  1.an improvement in the status of women\\n\\n2.I...  "
      ]
     },
     "execution_count": 41,
     "metadata": {},
     "output_type": "execute_result"
    }
   ],
   "source": [
    "vocabulary_df.tail(1)"
   ]
  },
  {
   "cell_type": "code",
   "execution_count": null,
   "metadata": {},
   "outputs": [],
   "source": []
  }
 ],
 "metadata": {
  "kernelspec": {
   "display_name": "torch",
   "language": "python",
   "name": "python3"
  },
  "language_info": {
   "codemirror_mode": {
    "name": "ipython",
    "version": 3
   },
   "file_extension": ".py",
   "mimetype": "text/x-python",
   "name": "python",
   "nbconvert_exporter": "python",
   "pygments_lexer": "ipython3",
   "version": "3.8.16"
  },
  "orig_nbformat": 4,
  "vscode": {
   "interpreter": {
    "hash": "5caa6f7b5347b354d3d955864816d8fc9ea1238db3d1d6c1a91feb69917a1b46"
   }
  }
 },
 "nbformat": 4,
 "nbformat_minor": 2
}
