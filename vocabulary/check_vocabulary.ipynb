{
 "cells": [
  {
   "cell_type": "code",
   "execution_count": 1,
   "metadata": {},
   "outputs": [],
   "source": [
    "import pandas as pd"
   ]
  },
  {
   "cell_type": "code",
   "execution_count": 4,
   "metadata": {},
   "outputs": [
    {
     "data": {
      "text/html": [
       "<div>\n",
       "<style scoped>\n",
       "    .dataframe tbody tr th:only-of-type {\n",
       "        vertical-align: middle;\n",
       "    }\n",
       "\n",
       "    .dataframe tbody tr th {\n",
       "        vertical-align: top;\n",
       "    }\n",
       "\n",
       "    .dataframe thead th {\n",
       "        text-align: right;\n",
       "    }\n",
       "</style>\n",
       "<table border=\"1\" class=\"dataframe\">\n",
       "  <thead>\n",
       "    <tr style=\"text-align: right;\">\n",
       "      <th></th>\n",
       "      <th>content</th>\n",
       "      <th>wrong</th>\n",
       "    </tr>\n",
       "  </thead>\n",
       "  <tbody>\n",
       "    <tr>\n",
       "      <th>result</th>\n",
       "      <td>結果\\n\\n【名詞】:\\n產物,成果,成勣,成效,功,結果,名堂,收穫,效果\\n●examp...</td>\n",
       "      <td>1</td>\n",
       "    </tr>\n",
       "    <tr>\n",
       "      <th>open</th>\n",
       "      <td>打開\\n\\n【動詞】:\\n捭,拆開,闡,撐,打開,發芽,放開,豁,開,開辦\\n●exampl...</td>\n",
       "      <td>2</td>\n",
       "    </tr>\n",
       "  </tbody>\n",
       "</table>\n",
       "</div>"
      ],
      "text/plain": [
       "                                                  content  wrong\n",
       "result  結果\\n\\n【名詞】:\\n產物,成果,成勣,成效,功,結果,名堂,收穫,效果\\n●examp...      1\n",
       "open    打開\\n\\n【動詞】:\\n捭,拆開,闡,撐,打開,發芽,放開,豁,開,開辦\\n●exampl...      2"
      ]
     },
     "execution_count": 4,
     "metadata": {},
     "output_type": "execute_result"
    }
   ],
   "source": [
    "vocabulary_df = pd.read_pickle('vocabulary.pkl')\n",
    "vocabulary_df"
   ]
  },
  {
   "cell_type": "code",
   "execution_count": 6,
   "metadata": {},
   "outputs": [
    {
     "data": {
      "text/plain": [
       "'結果\\n\\n【名詞】:\\n產物,成果,成勣,成效,功,結果,名堂,收穫,效果\\n●example\\nthe tower collapsed as a result of safety violations\\n\\n【動詞】:\\n導致,釀,致使\\n\\n【Examples】\\n1.the tower collapsed as a result of safety violations\\n\\n'"
      ]
     },
     "metadata": {},
     "output_type": "display_data"
    }
   ],
   "source": [
    "display(vocabulary_df.iloc[0].content)"
   ]
  },
  {
   "cell_type": "code",
   "execution_count": null,
   "metadata": {},
   "outputs": [],
   "source": []
  }
 ],
 "metadata": {
  "kernelspec": {
   "display_name": "Python 3.8.8 ('translator')",
   "language": "python",
   "name": "python3"
  },
  "language_info": {
   "codemirror_mode": {
    "name": "ipython",
    "version": 3
   },
   "file_extension": ".py",
   "mimetype": "text/x-python",
   "name": "python",
   "nbconvert_exporter": "python",
   "pygments_lexer": "ipython3",
   "version": "3.8.8"
  },
  "orig_nbformat": 4,
  "vscode": {
   "interpreter": {
    "hash": "42720fb0bae4e23d59d1e36dbbfaa6d7139c8f54eaefa02d648b927a7c05558b"
   }
  }
 },
 "nbformat": 4,
 "nbformat_minor": 2
}
