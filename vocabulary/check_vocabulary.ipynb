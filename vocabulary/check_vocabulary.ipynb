{
 "cells": [
  {
   "cell_type": "code",
   "execution_count": 1,
   "metadata": {},
   "outputs": [],
   "source": [
    "import pandas as pd"
   ]
  },
  {
   "cell_type": "code",
   "execution_count": 43,
   "metadata": {},
   "outputs": [
    {
     "data": {
      "text/html": [
       "<div>\n",
       "<style scoped>\n",
       "    .dataframe tbody tr th:only-of-type {\n",
       "        vertical-align: middle;\n",
       "    }\n",
       "\n",
       "    .dataframe tbody tr th {\n",
       "        vertical-align: top;\n",
       "    }\n",
       "\n",
       "    .dataframe thead th {\n",
       "        text-align: right;\n",
       "    }\n",
       "</style>\n",
       "<table border=\"1\" class=\"dataframe\">\n",
       "  <thead>\n",
       "    <tr style=\"text-align: right;\">\n",
       "      <th></th>\n",
       "      <th>content</th>\n",
       "      <th>wrong</th>\n",
       "    </tr>\n",
       "  </thead>\n",
       "  <tbody>\n",
       "    <tr>\n",
       "      <th>thermal</th>\n",
       "      <td>熱的\\n\\n【形容詞】:\\n激切,激越,熹,燠\\n●example\\nthermal con...</td>\n",
       "      <td>1.0</td>\n",
       "    </tr>\n",
       "    <tr>\n",
       "      <th>military</th>\n",
       "      <td>軍隊\\n\\n【形容詞】:\\n兵,軍,軍方,軍事,軍用,武\\n●example\\nboth l...</td>\n",
       "      <td>1.0</td>\n",
       "    </tr>\n",
       "    <tr>\n",
       "      <th>indicator</th>\n",
       "      <td>指標\\n\\n【名詞】:\\n跡象,指示符,指針\\n●example\\ncar ownershi...</td>\n",
       "      <td>1.0</td>\n",
       "    </tr>\n",
       "    <tr>\n",
       "      <th>critical</th>\n",
       "      <td>批判的\\n\\n【形容詞】:\\n沉重,當緊,緊要,緊張,臨界,批評,危急,嚴重,要緊\\n●ex...</td>\n",
       "      <td>2.0</td>\n",
       "    </tr>\n",
       "    <tr>\n",
       "      <th>investigation</th>\n",
       "      <td>調查\\n\\n【名詞】:\\n查訪,搜索,搜尋\\n●example\\nhe is under i...</td>\n",
       "      <td>1.0</td>\n",
       "    </tr>\n",
       "    <tr>\n",
       "      <th>...</th>\n",
       "      <td>...</td>\n",
       "      <td>...</td>\n",
       "    </tr>\n",
       "    <tr>\n",
       "      <th>circumstance</th>\n",
       "      <td>條件\\n\\n【名詞】:\\n條件,情況,無法控制的因素,客觀環境,經濟狀況\\n\\n【Examp...</td>\n",
       "      <td>3.0</td>\n",
       "    </tr>\n",
       "    <tr>\n",
       "      <th>integrative</th>\n",
       "      <td>綜合性\\n</td>\n",
       "      <td>1.0</td>\n",
       "    </tr>\n",
       "    <tr>\n",
       "      <th>granted</th>\n",
       "      <td>（尤指政府為特殊目的給予個人或組織的）撥款\\n\\n【名詞[c]】:\\n（尤指政府為特殊目的給...</td>\n",
       "      <td>2.0</td>\n",
       "    </tr>\n",
       "    <tr>\n",
       "      <th>status</th>\n",
       "      <td>地位\\n\\n【名詞】:\\n待遇,地位,身分,狀況,狀態\\n●example\\nan impr...</td>\n",
       "      <td>2.0</td>\n",
       "    </tr>\n",
       "    <tr>\n",
       "      <th>edit</th>\n",
       "      <td>編輯\\n\\n【動詞】:\\n編輯,校訂,任（報刊等）的主編\\n\\n【Examples】\\n1....</td>\n",
       "      <td>2.0</td>\n",
       "    </tr>\n",
       "  </tbody>\n",
       "</table>\n",
       "<p>206 rows × 2 columns</p>\n",
       "</div>"
      ],
      "text/plain": [
       "                                                         content  wrong\n",
       "thermal        熱的\\n\\n【形容詞】:\\n激切,激越,熹,燠\\n●example\\nthermal con...    1.0\n",
       "military       軍隊\\n\\n【形容詞】:\\n兵,軍,軍方,軍事,軍用,武\\n●example\\nboth l...    1.0\n",
       "indicator      指標\\n\\n【名詞】:\\n跡象,指示符,指針\\n●example\\ncar ownershi...    1.0\n",
       "critical       批判的\\n\\n【形容詞】:\\n沉重,當緊,緊要,緊張,臨界,批評,危急,嚴重,要緊\\n●ex...    2.0\n",
       "investigation  調查\\n\\n【名詞】:\\n查訪,搜索,搜尋\\n●example\\nhe is under i...    1.0\n",
       "...                                                          ...    ...\n",
       "circumstance   條件\\n\\n【名詞】:\\n條件,情況,無法控制的因素,客觀環境,經濟狀況\\n\\n【Examp...    3.0\n",
       "integrative                                                綜合性\\n    1.0\n",
       "granted        （尤指政府為特殊目的給予個人或組織的）撥款\\n\\n【名詞[c]】:\\n（尤指政府為特殊目的給...    2.0\n",
       "status         地位\\n\\n【名詞】:\\n待遇,地位,身分,狀況,狀態\\n●example\\nan impr...    2.0\n",
       "edit           編輯\\n\\n【動詞】:\\n編輯,校訂,任（報刊等）的主編\\n\\n【Examples】\\n1....    2.0\n",
       "\n",
       "[206 rows x 2 columns]"
      ]
     },
     "execution_count": 43,
     "metadata": {},
     "output_type": "execute_result"
    }
   ],
   "source": [
    "vocabulary_df = pd.read_pickle('vocabulary.pkl')\n",
    "vocabulary_df"
   ]
  },
  {
   "cell_type": "code",
   "execution_count": 39,
   "metadata": {},
   "outputs": [],
   "source": [
    "vocabulary_df['example'] = vocabulary_df.content.apply(lambda x: x.split('【Examples】\\n')[1] if '【Examples】\\n' in x else '')"
   ]
  },
  {
   "cell_type": "code",
   "execution_count": 40,
   "metadata": {},
   "outputs": [
    {
     "data": {
      "text/plain": [
       "'1.getting banks lending again was critical to any recovery\\n\\n2.the flood waters had not receded, and the situation was still critical\\n\\n'"
      ]
     },
     "execution_count": 40,
     "metadata": {},
     "output_type": "execute_result"
    }
   ],
   "source": [
    "vocabulary_df.iloc[3].example"
   ]
  },
  {
   "cell_type": "code",
   "execution_count": 41,
   "metadata": {},
   "outputs": [
    {
     "data": {
      "text/html": [
       "<div>\n",
       "<style scoped>\n",
       "    .dataframe tbody tr th:only-of-type {\n",
       "        vertical-align: middle;\n",
       "    }\n",
       "\n",
       "    .dataframe tbody tr th {\n",
       "        vertical-align: top;\n",
       "    }\n",
       "\n",
       "    .dataframe thead th {\n",
       "        text-align: right;\n",
       "    }\n",
       "</style>\n",
       "<table border=\"1\" class=\"dataframe\">\n",
       "  <thead>\n",
       "    <tr style=\"text-align: right;\">\n",
       "      <th></th>\n",
       "      <th>content</th>\n",
       "      <th>wrong</th>\n",
       "      <th>example</th>\n",
       "    </tr>\n",
       "  </thead>\n",
       "  <tbody>\n",
       "    <tr>\n",
       "      <th>status</th>\n",
       "      <td>地位\\n\\n【名詞】:\\n待遇,地位,身分,狀況,狀態\\n●example\\nan impr...</td>\n",
       "      <td>2.0</td>\n",
       "      <td>1.an improvement in the status of women\\n\\n2.I...</td>\n",
       "    </tr>\n",
       "  </tbody>\n",
       "</table>\n",
       "</div>"
      ],
      "text/plain": [
       "                                                  content  wrong  \\\n",
       "status  地位\\n\\n【名詞】:\\n待遇,地位,身分,狀況,狀態\\n●example\\nan impr...    2.0   \n",
       "\n",
       "                                                  example  \n",
       "status  1.an improvement in the status of women\\n\\n2.I...  "
      ]
     },
     "execution_count": 41,
     "metadata": {},
     "output_type": "execute_result"
    }
   ],
   "source": [
    " vocabulary_df.tail(1)"
   ]
  },
  {
   "cell_type": "code",
   "execution_count": null,
   "metadata": {},
   "outputs": [],
   "source": []
  }
 ],
 "metadata": {
  "kernelspec": {
   "display_name": "torch",
   "language": "python",
   "name": "python3"
  },
  "language_info": {
   "codemirror_mode": {
    "name": "ipython",
    "version": 3
   },
   "file_extension": ".py",
   "mimetype": "text/x-python",
   "name": "python",
   "nbconvert_exporter": "python",
   "pygments_lexer": "ipython3",
   "version": "3.9.0"
  },
  "orig_nbformat": 4,
  "vscode": {
   "interpreter": {
    "hash": "5caa6f7b5347b354d3d955864816d8fc9ea1238db3d1d6c1a91feb69917a1b46"
   }
  }
 },
 "nbformat": 4,
 "nbformat_minor": 2
}
